{
 "cells": [
  {
   "cell_type": "markdown",
   "metadata": {},
   "source": [
    "# DAY 04"
   ]
  },
  {
   "cell_type": "raw",
   "metadata": {},
   "source": [
    "## 1)Create three variables (a,b,c) to same value of any integer & do the following\n",
    "a) Divide a by 10 b) Multiply b by 50 c) Add c value by 60"
   ]
  },
  {
   "cell_type": "code",
   "execution_count": 7,
   "metadata": {},
   "outputs": [
    {
     "name": "stdout",
     "output_type": "stream",
     "text": [
      "values of a = 900 b= 900 and c= 900\n",
      "Divide a by 90 : 10.0\n",
      "Multiply b by 50 45000\n",
      "Add c value by 60 960\n"
     ]
    }
   ],
   "source": [
    "a=b=c=900\n",
    "print(\"values of a =\",a,\"b=\",b,\"and c=\",c)\n",
    "# a ) divide a by 90\n",
    "print(\"Divide a by 90 :\",a/90)\n",
    "# b) multiply b by 50\n",
    "print(\"Multiply b by 50\",b*50)\n",
    "# c) Add c value by 60\n",
    "print(\"Add c value by 60\" ,c+60)"
   ]
  },
  {
   "cell_type": "markdown",
   "metadata": {},
   "source": [
    "# 2)Create a String variable of 5 characters and replace the 3rd character with G"
   ]
  },
  {
   "cell_type": "code",
   "execution_count": 2,
   "metadata": {},
   "outputs": [
    {
     "name": "stdout",
     "output_type": "stream",
     "text": [
      "abcde\n",
      "after replacing G in string abGde\n"
     ]
    }
   ],
   "source": [
    "string_var=\"abcde\"\n",
    "print(string_var)\n",
    "print(\"after replacing G in string\", string_var.replace(\"c\",\"G\"))"
   ]
  },
  {
   "cell_type": "code",
   "execution_count": 3,
   "metadata": {},
   "outputs": [
    {
     "name": "stdout",
     "output_type": "stream",
     "text": [
      "abcde\n",
      "after replacing G in string abGde\n"
     ]
    }
   ],
   "source": [
    "print(string_var)\n",
    "print(\"after replacing G in string\", string_var[:2]+'G'+string_var[3:])"
   ]
  },
  {
   "cell_type": "code",
   "execution_count": 4,
   "metadata": {},
   "outputs": [
    {
     "name": "stdout",
     "output_type": "stream",
     "text": [
      "abcde\n",
      "after replacing G in string abGde\n"
     ]
    }
   ],
   "source": [
    "import re\n",
    "print(string_var)\n",
    "string_var=re.sub(\"c\",\"G\",string_var)\n",
    "print(\"after replacing G in string\",string_var )"
   ]
  },
  {
   "cell_type": "code",
   "execution_count": 5,
   "metadata": {},
   "outputs": [
    {
     "name": "stdout",
     "output_type": "stream",
     "text": [
      "abcde\n",
      "after replacing G in string abGde\n"
     ]
    }
   ],
   "source": [
    "string_var=\"abcde\"\n",
    "print(string_var)\n",
    "trans=string_var.maketrans(\"c\",\"G\")\n",
    "string_var=string_var.translate(trans)\n",
    "print(\"after replacing G in string\",string_var )"
   ]
  },
  {
   "cell_type": "markdown",
   "metadata": {},
   "source": [
    "# 3)Create two values (a,b) of int,float data type & convert the vise versa, Hint : convert a from int to float datatype & b from float to int datatype"
   ]
  },
  {
   "cell_type": "code",
   "execution_count": 8,
   "metadata": {},
   "outputs": [
    {
     "name": "stdout",
     "output_type": "stream",
     "text": [
      "a= 90\n",
      "After typecasting a to float = 90.0\n",
      "b= 110.5\n",
      "After typecasting a to int = 110\n"
     ]
    }
   ],
   "source": [
    "a=90\n",
    "b=110.5\n",
    "print(\"a=\",a)\n",
    "print(\"After typecasting a to float =\",float(a))\n",
    "print(\"b=\",b)\n",
    "print(\"After typecasting a to int =\",int(b))"
   ]
  },
  {
   "cell_type": "code",
   "execution_count": null,
   "metadata": {},
   "outputs": [],
   "source": []
  }
 ],
 "metadata": {
  "kernelspec": {
   "display_name": "Python 3",
   "language": "python",
   "name": "python3"
  },
  "language_info": {
   "codemirror_mode": {
    "name": "ipython",
    "version": 3
   },
   "file_extension": ".py",
   "mimetype": "text/x-python",
   "name": "python",
   "nbconvert_exporter": "python",
   "pygments_lexer": "ipython3",
   "version": "3.8.3"
  }
 },
 "nbformat": 4,
 "nbformat_minor": 4
}

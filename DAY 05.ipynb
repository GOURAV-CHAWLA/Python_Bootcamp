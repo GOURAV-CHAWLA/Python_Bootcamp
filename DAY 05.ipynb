{
 "cells": [
  {
   "cell_type": "markdown",
   "metadata": {},
   "source": [
    "# Day 5"
   ]
  },
  {
   "cell_type": "markdown",
   "metadata": {},
   "source": [
    "# User Inputs, Other Important Datatypes\n",
    "\n",
    "1) Write a program to create a list of n integer values and do the following\n"
   ]
  },
  {
   "cell_type": "markdown",
   "metadata": {},
   "source": [
    "• Add an item in to the list (using function)\n",
    "\n",
    "• Delete (using function)\n",
    "\n",
    "• Store the largest number from the list to a variable"
   ]
  },
  {
   "cell_type": "code",
   "execution_count": 2,
   "metadata": {},
   "outputs": [
    {
     "name": "stdout",
     "output_type": "stream",
     "text": [
      "9\n",
      "8\n",
      "7\n",
      "6\n",
      "5\n"
     ]
    }
   ],
   "source": [
    "no=5\n",
    "a=[]\n",
    "for i in range(no):\n",
    "    x=int(input())\n",
    "    a.append(x)"
   ]
  },
  {
   "cell_type": "code",
   "execution_count": 3,
   "metadata": {},
   "outputs": [
    {
     "name": "stdout",
     "output_type": "stream",
     "text": [
      "9\n",
      "8\n",
      "7\n",
      "6\n",
      "5\n"
     ]
    }
   ],
   "source": [
    "for i in a:\n",
    "    print(i)"
   ]
  },
  {
   "cell_type": "code",
   "execution_count": 4,
   "metadata": {},
   "outputs": [
    {
     "name": "stdout",
     "output_type": "stream",
     "text": [
      "9\n",
      "8\n",
      "7\n",
      "6\n",
      "5\n"
     ]
    }
   ],
   "source": [
    "for i in range(len(a)):\n",
    "    print(a[i])"
   ]
  },
  {
   "cell_type": "code",
   "execution_count": null,
   "metadata": {},
   "outputs": [],
   "source": [
    "#Adding elemnts in list"
   ]
  },
  {
   "cell_type": "code",
   "execution_count": 5,
   "metadata": {},
   "outputs": [
    {
     "name": "stdout",
     "output_type": "stream",
     "text": [
      "A= [9, 8, 7, 6, 5]\n",
      "added another list : [9, 8, 7, 6, 5, 'a', 's', 'd', 'g', 'h']\n"
     ]
    }
   ],
   "source": [
    "print(\"A=\",a)\n",
    "b=['a','s','d','g','h']\n",
    "a+=b\n",
    "print(\"added another list :\",a)"
   ]
  },
  {
   "cell_type": "code",
   "execution_count": 6,
   "metadata": {},
   "outputs": [
    {
     "data": {
      "text/plain": [
       "[9, 8, 7, 6, 5, 'a', 's', 'd', 'g', 'h', 23, 30, 25, 10, 50]"
      ]
     },
     "execution_count": 6,
     "metadata": {},
     "output_type": "execute_result"
    }
   ],
   "source": [
    "c=[23,30,25,10,50]\n",
    "a.extend(c)\n",
    "a"
   ]
  },
  {
   "cell_type": "code",
   "execution_count": 7,
   "metadata": {},
   "outputs": [
    {
     "name": "stdout",
     "output_type": "stream",
     "text": [
      "[9, 8, 7, 6, 'I am newly inserted element', 5, 'a', 's', 'd', 'g', 'h', 23, 30, 25, 10, 50]\n"
     ]
    }
   ],
   "source": [
    "a.insert(4,\"I am newly inserted element\")\n",
    "print(a)"
   ]
  },
  {
   "cell_type": "markdown",
   "metadata": {},
   "source": [
    "# Deleting an element in list"
   ]
  },
  {
   "cell_type": "code",
   "execution_count": 12,
   "metadata": {},
   "outputs": [],
   "source": [
    "del a[9]"
   ]
  },
  {
   "cell_type": "code",
   "execution_count": 13,
   "metadata": {},
   "outputs": [
    {
     "name": "stdout",
     "output_type": "stream",
     "text": [
      "[9, 8, 7, 6, 'I am newly inserted element', 5, 'a', 's', 'h', 30, 25, 10, 50]\n"
     ]
    }
   ],
   "source": [
    "print(a)"
   ]
  },
  {
   "cell_type": "code",
   "execution_count": 14,
   "metadata": {},
   "outputs": [
    {
     "name": "stdout",
     "output_type": "stream",
     "text": [
      "[9, 8, 7, 6, 'I am newly inserted element', 5]\n"
     ]
    }
   ],
   "source": [
    "del a[6:17]\n",
    "print(a)"
   ]
  },
  {
   "cell_type": "code",
   "execution_count": null,
   "metadata": {},
   "outputs": [],
   "source": [
    "# delete a last element in list"
   ]
  },
  {
   "cell_type": "code",
   "execution_count": 15,
   "metadata": {},
   "outputs": [
    {
     "name": "stdout",
     "output_type": "stream",
     "text": [
      "[9, 8, 7, 6, 'I am newly inserted element']\n"
     ]
    }
   ],
   "source": [
    "a.pop() \n",
    "print(a)"
   ]
  },
  {
   "cell_type": "code",
   "execution_count": 16,
   "metadata": {},
   "outputs": [
    {
     "name": "stdout",
     "output_type": "stream",
     "text": [
      "[8, 7, 6, 'I am newly inserted element']\n"
     ]
    }
   ],
   "source": [
    "a.pop(-5)\n",
    "print(a)"
   ]
  },
  {
   "cell_type": "code",
   "execution_count": 19,
   "metadata": {},
   "outputs": [
    {
     "name": "stdout",
     "output_type": "stream",
     "text": [
      "[7, 6, 'I am newly inserted element']\n"
     ]
    }
   ],
   "source": [
    "a.remove(8)\n",
    "print(a)"
   ]
  },
  {
   "cell_type": "markdown",
   "metadata": {},
   "source": [
    "# Store the largest number from the list to a variable"
   ]
  },
  {
   "cell_type": "code",
   "execution_count": 21,
   "metadata": {},
   "outputs": [
    {
     "name": "stdout",
     "output_type": "stream",
     "text": [
      "maximun number in list 9\n"
     ]
    }
   ],
   "source": [
    "list =[9,8,7,6,5,4,3,2,1]\n",
    "max_i=max(list)\n",
    "print(\"maximun number in list\",max_i)"
   ]
  },
  {
   "cell_type": "markdown",
   "metadata": {},
   "source": [
    "# Store the Smallest number from the list to a variable"
   ]
  },
  {
   "cell_type": "code",
   "execution_count": 23,
   "metadata": {},
   "outputs": [
    {
     "name": "stdout",
     "output_type": "stream",
     "text": [
      "minimun number in list 1\n"
     ]
    }
   ],
   "source": [
    "list =[9,8,7,6,5,4,3,2,1]\n",
    "min_i=min(list)\n",
    "print(\"minimun number in list\",min_i)"
   ]
  },
  {
   "cell_type": "code",
   "execution_count": null,
   "metadata": {},
   "outputs": [],
   "source": [
    "#2) Create a tuple and print the reverse of the created tuple"
   ]
  },
  {
   "cell_type": "code",
   "execution_count": 25,
   "metadata": {},
   "outputs": [
    {
     "name": "stdout",
     "output_type": "stream",
     "text": [
      "tuple before sorting (94, 65, 32, 62, 25, 30, 45, 17, 71, 3, 36, 90)\n",
      "Reverse the tuple  [94, 90, 71, 65, 62, 45, 36, 32, 30, 25, 17, 3]\n",
      "Sorted tuple [3, 17, 25, 30, 32, 36, 45, 62, 65, 71, 90, 94]\n"
     ]
    }
   ],
   "source": [
    "tuple =(94,65,32,62,25,30,45,17,71,3,36,90)\n",
    "s=sorted(tuple)\n",
    "print(\"tuple before sorting\",tuple)\n",
    "print(\"Reverse the tuple \",sorted(tuple,reverse=True))\n",
    "print(\"Sorted tuple\",s)"
   ]
  },
  {
   "cell_type": "code",
   "execution_count": 26,
   "metadata": {},
   "outputs": [
    {
     "name": "stdout",
     "output_type": "stream",
     "text": [
      "reverse of sorted tuple is  [94, 90, 71, 65, 62, 45, 36, 32, 30, 25, 17, 3]\n"
     ]
    }
   ],
   "source": [
    "rev=sorted(s, reverse=True)\n",
    "print(\"reverse of sorted tuple is \",rev)"
   ]
  },
  {
   "cell_type": "code",
   "execution_count": null,
   "metadata": {},
   "outputs": [],
   "source": [
    "#3) Create a Tuple And Convert into List"
   ]
  },
  {
   "cell_type": "code",
   "execution_count": 49,
   "metadata": {},
   "outputs": [
    {
     "name": "stdout",
     "output_type": "stream",
     "text": [
      "[1, 2, 3, 4, 5, 8]\n"
     ]
    }
   ],
   "source": [
    "tuple=[(1,2),(3,4),(5,8)]\n",
    "result=[]\n",
    "for t in tuple:\n",
    "    for x in t:\n",
    "        result.append(x)\n",
    "print(result )"
   ]
  }
 ],
 "metadata": {
  "kernelspec": {
   "display_name": "Python 3",
   "language": "python",
   "name": "python3"
  },
  "language_info": {
   "codemirror_mode": {
    "name": "ipython",
    "version": 3
   },
   "file_extension": ".py",
   "mimetype": "text/x-python",
   "name": "python",
   "nbconvert_exporter": "python",
   "pygments_lexer": "ipython3",
   "version": "3.8.3"
  }
 },
 "nbformat": 4,
 "nbformat_minor": 4
}

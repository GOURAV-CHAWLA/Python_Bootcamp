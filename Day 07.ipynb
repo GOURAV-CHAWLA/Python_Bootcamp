{
 "cells": [
  {
   "cell_type": "markdown",
   "metadata": {},
   "source": [
    "# Day 7 – Functions\n",
    "\n",
    "## Exercise\n",
    "\n",
    "### 1. Create a function getting two integer inputs from user.& print the following:"
   ]
  },
  {
   "cell_type": "markdown",
   "metadata": {},
   "source": [
    "### Addition of two numbers is +value\n",
    "\n",
    "### Subtraction of two numbers is +value\n",
    "\n",
    "### Division of two numbers is +value\n",
    "\n",
    "### Multiplication of two numbers is +value\n"
   ]
  },
  {
   "cell_type": "code",
   "execution_count": 14,
   "metadata": {},
   "outputs": [],
   "source": [
    "#Here the value represents math function associated"
   ]
  },
  {
   "cell_type": "code",
   "execution_count": 7,
   "metadata": {},
   "outputs": [
    {
     "name": "stdout",
     "output_type": "stream",
     "text": [
      "Enter the first value :25\n",
      "Enter the second value: 30\n",
      "Enter '+' for addition , '-' for Subration ,'*' for multiplication, '/ for division'+\n"
     ]
    }
   ],
   "source": [
    "a= int(input(\"Enter the first value :\"))\n",
    "b=int(input(\"Enter the second value: \"))\n",
    "sign1=input(\"Enter '+' for addition , '-' for Subration ,'*' for multiplication, '/ for division'\")\n"
   ]
  },
  {
   "cell_type": "code",
   "execution_count": 8,
   "metadata": {},
   "outputs": [],
   "source": [
    "def math_function(a,b,sign):\n",
    "    if sign == '+':\n",
    "        print(\"Addition of a and b is \",str(a+b))\n",
    "    elif sign == '-':\n",
    "        print(\"Subraction of a and b is \",str(a-b))\n",
    "    elif sign == '*':\n",
    "        print(\"Multiplication of a and b is \",str(a*b))\n",
    "    elif sign == '/':\n",
    "        print(\"Division of a and b is \",str(a/b))"
   ]
  },
  {
   "cell_type": "code",
   "execution_count": 9,
   "metadata": {},
   "outputs": [
    {
     "name": "stdout",
     "output_type": "stream",
     "text": [
      "Addition of a and b is  55\n"
     ]
    }
   ],
   "source": [
    "math_function(a,b,sign1)"
   ]
  },
  {
   "cell_type": "code",
   "execution_count": 10,
   "metadata": {},
   "outputs": [
    {
     "name": "stdout",
     "output_type": "stream",
     "text": [
      "Enter the first value :60\n",
      "Enter the second value: 30\n",
      "Enter '+' for addition , '-' for Subration ,'*' for multiplication, '/ for division'*\n",
      "Multiplication of a and b is  1800\n"
     ]
    }
   ],
   "source": [
    "a= int(input(\"Enter the first value :\"))\n",
    "b=int(input(\"Enter the second value: \"))\n",
    "sign1=input(\"Enter '+' for addition , '-' for Subration ,'*' for multiplication, '/ for division'\")  \n",
    "math_function(a,b,sign1)"
   ]
  },
  {
   "cell_type": "code",
   "execution_count": 11,
   "metadata": {},
   "outputs": [
    {
     "name": "stdout",
     "output_type": "stream",
     "text": [
      "Enter the first value :60\n",
      "Enter the second value: 30\n",
      "Enter '+' for addition , '-' for Subration ,'*' for multiplication, '/ for division'*\n",
      "Multiplication of a and b is  1800\n"
     ]
    }
   ],
   "source": [
    "a= int(input(\"Enter the first value :\"))\n",
    "b=int(input(\"Enter the second value: \"))\n",
    "sign1=input(\"Enter '+' for addition , '-' for Subration ,'*' for multiplication, '/ for division'\")  \n",
    "math_function(a,b,sign1)"
   ]
  },
  {
   "cell_type": "markdown",
   "metadata": {},
   "source": [
    "### 2.Create a function covid( )& it should accept patient name, and body temperature, by default the body temperature should be 98 degree"
   ]
  },
  {
   "cell_type": "code",
   "execution_count": 12,
   "metadata": {},
   "outputs": [],
   "source": [
    "def covid(name,temp):\n",
    "    print(\"Name of patient is\",name)\n",
    "    if temp == '':\n",
    "        print(\"Body Temprature  :98\")\n",
    "    else:\n",
    "        print(\"Body Temprature  :\",temp)"
   ]
  },
  {
   "cell_type": "code",
   "execution_count": 13,
   "metadata": {},
   "outputs": [
    {
     "name": "stdout",
     "output_type": "stream",
     "text": [
      "Enter the patient name :GOURAV CHAWLA \n",
      "enter body temprature 99\n",
      "Name of patient is GOURAV CHAWLA \n",
      "Body Temprature  : 99\n"
     ]
    }
   ],
   "source": [
    "name=input(\"Enter the patient name :\")\n",
    "temp=input(\"enter body temprature \")\n",
    "covid(name,temp)"
   ]
  }
 ],
 "metadata": {
  "kernelspec": {
   "display_name": "Python 3",
   "language": "python",
   "name": "python3"
  },
  "language_info": {
   "codemirror_mode": {
    "name": "ipython",
    "version": 3
   },
   "file_extension": ".py",
   "mimetype": "text/x-python",
   "name": "python",
   "nbconvert_exporter": "python",
   "pygments_lexer": "ipython3",
   "version": "3.8.3"
  }
 },
 "nbformat": 4,
 "nbformat_minor": 4
}

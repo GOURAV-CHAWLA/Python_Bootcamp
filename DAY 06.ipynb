{
 "cells": [
  {
   "cell_type": "markdown",
   "metadata": {},
   "source": [
    "# DAY "
   ]
  },
  {
   "cell_type": "markdown",
   "metadata": {},
   "source": [
    "#  Dictionary,Sets"
   ]
  },
  {
   "cell_type": "code",
   "execution_count": 30,
   "metadata": {},
   "outputs": [],
   "source": [
    "# 1) Write a Python script to merge two Python dictionaries"
   ]
  },
  {
   "cell_type": "code",
   "execution_count": 1,
   "metadata": {},
   "outputs": [],
   "source": [
    "dic1={'ram':98,'Dubey':99,'Ramesh':89,'Amish':88}\n",
    "dic2={'gourav':76,'mansi':56,'Anurag':100,'Puna':67}"
   ]
  },
  {
   "cell_type": "code",
   "execution_count": 3,
   "metadata": {},
   "outputs": [
    {
     "name": "stdout",
     "output_type": "stream",
     "text": [
      "None\n",
      "{'gourav': 76, 'mansi': 56, 'Anurag': 100, 'Puna': 67, 'ram': 98, 'Dubey': 99, 'Ramesh': 89, 'Amish': 88}\n"
     ]
    }
   ],
   "source": [
    "# merging dic through update fn\n",
    "print(dic2.update(dic1))    \n",
    "# changes made in dic2\n",
    "print(dic2)"
   ]
  },
  {
   "cell_type": "code",
   "execution_count": 4,
   "metadata": {},
   "outputs": [
    {
     "name": "stdout",
     "output_type": "stream",
     "text": [
      "{'ram': 98, 'Dubey': 99, 'Ramesh': 89, 'Amish': 88}\n"
     ]
    }
   ],
   "source": [
    "print(dic1)"
   ]
  },
  {
   "cell_type": "code",
   "execution_count": 7,
   "metadata": {},
   "outputs": [
    {
     "name": "stdout",
     "output_type": "stream",
     "text": [
      "{'ram': 98, 'Dubey': 99, 'Ramesh': 89, 'Amish': 88, 'gourav': 76, 'mansi': 56, 'Anurag': 100, 'Puna': 67}\n"
     ]
    }
   ],
   "source": [
    "res1 = {**dic1, **dic2} \n",
    "# making by adding two dictionary in another dictionary\n",
    "print(res1)"
   ]
  },
  {
   "cell_type": "code",
   "execution_count": 8,
   "metadata": {},
   "outputs": [
    {
     "name": "stdout",
     "output_type": "stream",
     "text": [
      "{'gourav': 76, 'mansi': 56, 'Anurag': 100, 'Puna': 67, 'ram': 98, 'Dubey': 99, 'Ramesh': 89, 'Amish': 88}\n"
     ]
    }
   ],
   "source": [
    "res12 = dic1 and dic2  # merging using and \n",
    "print(res12)"
   ]
  },
  {
   "cell_type": "code",
   "execution_count": 12,
   "metadata": {},
   "outputs": [
    {
     "name": "stdout",
     "output_type": "stream",
     "text": [
      "{'ram': 98, 'Dubey': 99, 'Ramesh': 89, 'Amish': 88}  and dictionary 2 is     {'gourav': 76, 'mansi': 56, 'Anurag': 100, 'Puna': 67, 'ram': 98, 'Dubey': 99, 'Ramesh': 89, 'Amish': 88}\n",
      "\n",
      "\n",
      "\n",
      "{'gourav': 76, 'mansi': 56, 'Anurag': 100, 'Puna': 67, 'ram': 98, 'Dubey': 99, 'Ramesh': 89, 'Amish': 88}\n"
     ]
    }
   ],
   "source": [
    "print(dic1 ,\" and dictionary 2 is    \", dic2)\n",
    "print()\n",
    "print()\n",
    "print()\n",
    "dis =dic2 or dic1\n",
    "print(dis)"
   ]
  },
  {
   "cell_type": "markdown",
   "metadata": {},
   "source": [
    "# 2) Write a Python program to remove a key from a dictionary"
   ]
  },
  {
   "cell_type": "code",
   "execution_count": 13,
   "metadata": {},
   "outputs": [
    {
     "name": "stdout",
     "output_type": "stream",
     "text": [
      "{'Dubey': 99, 'Ramesh': 89, 'Amish': 88}\n"
     ]
    }
   ],
   "source": [
    "del dic1['ram']\n",
    "print(dic1)"
   ]
  },
  {
   "cell_type": "code",
   "execution_count": 14,
   "metadata": {},
   "outputs": [
    {
     "data": {
      "text/plain": [
       "99"
      ]
     },
     "execution_count": 14,
     "metadata": {},
     "output_type": "execute_result"
    }
   ],
   "source": [
    "dic2.pop('Dubey')"
   ]
  },
  {
   "cell_type": "code",
   "execution_count": 15,
   "metadata": {},
   "outputs": [
    {
     "name": "stdout",
     "output_type": "stream",
     "text": [
      "{'gourav': 76, 'mansi': 56, 'Anurag': 100, 'Puna': 67, 'ram': 98, 'Ramesh': 89, 'Amish': 88}\n"
     ]
    }
   ],
   "source": [
    "print(dic2)"
   ]
  },
  {
   "cell_type": "code",
   "execution_count": 17,
   "metadata": {},
   "outputs": [
    {
     "name": "stdout",
     "output_type": "stream",
     "text": [
      "{'gourav': 76, 'mansi': 56, 'Anurag': 100, 'Puna': 67, 'ram': 98}\n"
     ]
    }
   ],
   "source": [
    "dic2.popitem()                                #pop last item\n",
    "print(dic2)"
   ]
  },
  {
   "cell_type": "markdown",
   "metadata": {},
   "source": [
    "# 3) Write a Python program to map two lists into a dictionary"
   ]
  },
  {
   "cell_type": "code",
   "execution_count": 18,
   "metadata": {},
   "outputs": [
    {
     "name": "stdout",
     "output_type": "stream",
     "text": [
      "Dictionary is  {'A': 7, 'S': 8, 'D': 9, 'f': 5, 'E': 4, 'O': 3}\n"
     ]
    }
   ],
   "source": [
    "d1=['A','S','D','f','E','O']\n",
    "d2=[7,8,9,5,4,3]\n",
    "res = {}\n",
    "for key in d1:\n",
    "    for value in d2:\n",
    "        res[key] = value\n",
    "        d2.remove(value)\n",
    "        break  \n",
    "print(\"Dictionary is \",str(res))"
   ]
  },
  {
   "cell_type": "code",
   "execution_count": 19,
   "metadata": {},
   "outputs": [
    {
     "name": "stdout",
     "output_type": "stream",
     "text": [
      "{'A': 7, 'S': 8, 'D': 9, 'f': 5, 'E': 4, 'O': 3}\n"
     ]
    }
   ],
   "source": [
    "d1=['A','S','D','f','E','O']\n",
    "d2=[7,8,9,5,4,3]\n",
    "res1={d1[i]:d2[i] for i in range(len(d1))}\n",
    "print(res1)"
   ]
  },
  {
   "cell_type": "code",
   "execution_count": 20,
   "metadata": {},
   "outputs": [
    {
     "name": "stdout",
     "output_type": "stream",
     "text": [
      "{'A': 7, 'S': 8, 'D': 9, 'f': 5, 'E': 4, 'O': 3}\n"
     ]
    }
   ],
   "source": [
    "d1=['A','S','D','f','E','O']\n",
    "d2=[7,8,9,5,4,3]\n",
    "rs2 = dict(zip(d1,d2))\n",
    "print(rs2)"
   ]
  },
  {
   "cell_type": "markdown",
   "metadata": {},
   "source": [
    "# 4) Write a Python program to find the length of a set"
   ]
  },
  {
   "cell_type": "code",
   "execution_count": 21,
   "metadata": {},
   "outputs": [
    {
     "name": "stdout",
     "output_type": "stream",
     "text": [
      "Number of names in Set is : 8\n"
     ]
    }
   ],
   "source": [
    "name={'A','B','C','D','E','F','G','H'}\n",
    "print(\"Number of names in Set is :\",len(name))"
   ]
  },
  {
   "cell_type": "code",
   "execution_count": 22,
   "metadata": {},
   "outputs": [],
   "source": [
    "#trying with add, update,remove and discard fn in set"
   ]
  },
  {
   "cell_type": "code",
   "execution_count": 23,
   "metadata": {},
   "outputs": [
    {
     "name": "stdout",
     "output_type": "stream",
     "text": [
      "Adding two  sets : {'ASHISH', 'GOURAV-CHAWLA', 'GOURAV', 'KARTIKAY', 'DEEPAK', 'ABHISHEK', 'ARPIT', 'RISHABH'}\n"
     ]
    }
   ],
   "source": [
    "name={'GOURAV','ARPIT','DEEPAK','ASHISH'}\n",
    "name2={'RISHABH','KARTIKAY','GOURAV-CHAWLA','ABHISHEK'}\n",
    "name.update(name2)\n",
    "print(\"Adding two  sets :\", name)"
   ]
  },
  {
   "cell_type": "code",
   "execution_count": 24,
   "metadata": {},
   "outputs": [],
   "source": [
    "name.add(\"AMIT\")"
   ]
  },
  {
   "cell_type": "code",
   "execution_count": 25,
   "metadata": {},
   "outputs": [
    {
     "name": "stdout",
     "output_type": "stream",
     "text": [
      "{'ASHISH', 'GOURAV-CHAWLA', 'GOURAV', 'KARTIKAY', 'AMIT', 'DEEPAK', 'ABHISHEK', 'ARPIT', 'RISHABH'}\n"
     ]
    }
   ],
   "source": [
    "print(name)"
   ]
  },
  {
   "cell_type": "code",
   "execution_count": 26,
   "metadata": {},
   "outputs": [],
   "source": [
    "name.remove('ARPIT')"
   ]
  },
  {
   "cell_type": "code",
   "execution_count": 28,
   "metadata": {},
   "outputs": [],
   "source": [
    "name.discard('DEEPAK')"
   ]
  },
  {
   "cell_type": "code",
   "execution_count": 29,
   "metadata": {},
   "outputs": [
    {
     "name": "stdout",
     "output_type": "stream",
     "text": [
      "{'ASHISH', 'GOURAV-CHAWLA', 'GOURAV', 'KARTIKAY', 'AMIT', 'ABHISHEK', 'RISHABH'}\n"
     ]
    }
   ],
   "source": [
    "print(name)"
   ]
  },
  {
   "cell_type": "markdown",
   "metadata": {},
   "source": [
    "# 5) Write a Python program to remove the intersection of a 2nd set from the 1st sets"
   ]
  },
  {
   "cell_type": "code",
   "execution_count": 31,
   "metadata": {},
   "outputs": [
    {
     "name": "stdout",
     "output_type": "stream",
     "text": [
      "{100, 40, 80, 20, 60}\n"
     ]
    }
   ],
   "source": [
    "a1={100,90,80,70,60,50,40,30,20,10}\n",
    "a2={20,40,60,80,100}\n",
    "print(a1.intersection(a2))"
   ]
  },
  {
   "cell_type": "code",
   "execution_count": null,
   "metadata": {},
   "outputs": [],
   "source": []
  }
 ],
 "metadata": {
  "kernelspec": {
   "display_name": "Python 3",
   "language": "python",
   "name": "python3"
  },
  "language_info": {
   "codemirror_mode": {
    "name": "ipython",
    "version": 3
   },
   "file_extension": ".py",
   "mimetype": "text/x-python",
   "name": "python",
   "nbconvert_exporter": "python",
   "pygments_lexer": "ipython3",
   "version": "3.8.3"
  }
 },
 "nbformat": 4,
 "nbformat_minor": 4
}

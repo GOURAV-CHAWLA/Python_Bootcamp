{
 "cells": [
  {
   "cell_type": "markdown",
   "metadata": {},
   "source": [
    "# Day 25\n",
    "# ---------------------------------------------------------------------------------------------------------\n",
    "# Date and Time in Python"
   ]
  },
  {
   "cell_type": "markdown",
   "metadata": {},
   "source": [
    "### 1.\tWrite a Python program to convert a string to datetime"
   ]
  },
  {
   "cell_type": "code",
   "execution_count": 1,
   "metadata": {},
   "outputs": [],
   "source": [
    "import datetime"
   ]
  },
  {
   "cell_type": "code",
   "execution_count": 2,
   "metadata": {},
   "outputs": [],
   "source": [
    "def convert(date_time):\n",
    "    format = '%b %d %Y %I:%M%p' # The format\n",
    "    datetime_str = datetime.datetime.strptime(date_time, format)\n",
    "    return datetime_str"
   ]
  },
  {
   "cell_type": "code",
   "execution_count": 4,
   "metadata": {},
   "outputs": [
    {
     "name": "stdout",
     "output_type": "stream",
     "text": [
      "2021-03-24 15:24:00\n"
     ]
    }
   ],
   "source": [
    "date_time = 'Mar 24 2021 03:24PM'\n",
    "print(convert(date_time))"
   ]
  },
  {
   "cell_type": "markdown",
   "metadata": {},
   "source": [
    "### 2.\tWrite a Python program to subtract five days (last working day) from current date"
   ]
  },
  {
   "cell_type": "code",
   "execution_count": 5,
   "metadata": {},
   "outputs": [
    {
     "name": "stdout",
     "output_type": "stream",
     "text": [
      "Current Date : 2021-07-09\n",
      "5 days before Current Date  is : 2021-07-04\n"
     ]
    }
   ],
   "source": [
    "from datetime import date, timedelta\n",
    "delta = date.today() - timedelta(5)\n",
    "print('Current Date :',date.today())\n",
    "print('5 days before Current Date  is :',delta)"
   ]
  },
  {
   "cell_type": "markdown",
   "metadata": {},
   "source": [
    "### 3.\tWrite a Python program to convert the date to datetime using a function "
   ]
  },
  {
   "cell_type": "code",
   "execution_count": 7,
   "metadata": {},
   "outputs": [
    {
     "name": "stdout",
     "output_type": "stream",
     "text": [
      "2021-07-09 00:00:00\n"
     ]
    }
   ],
   "source": [
    "from datetime import datetime\n",
    "dt = date.today()\n",
    "print(datetime.combine(dt, datetime.min.time()))"
   ]
  },
  {
   "cell_type": "markdown",
   "metadata": {},
   "source": [
    "### 4.\tWrite a Python program to print next 7 days (week) starting from today"
   ]
  },
  {
   "cell_type": "code",
   "execution_count": 10,
   "metadata": {},
   "outputs": [
    {
     "name": "stdout",
     "output_type": "stream",
     "text": [
      "2021-07-09 18:36:42.005611\n",
      "2021-07-10 18:36:42.005611\n",
      "2021-07-11 18:36:42.005611\n",
      "2021-07-12 18:36:42.005611\n",
      "2021-07-13 18:36:42.005611\n",
      "2021-07-14 18:36:42.005611\n",
      "2021-07-15 18:36:42.005611\n"
     ]
    }
   ],
   "source": [
    "import datetime\n",
    "base = datetime.datetime.today()\n",
    "for x in range(0, 7):\n",
    "    print(base + datetime.timedelta(days=x))"
   ]
  }
 ],
 "metadata": {
  "kernelspec": {
   "display_name": "Python 3",
   "language": "python",
   "name": "python3"
  },
  "language_info": {
   "codemirror_mode": {
    "name": "ipython",
    "version": 3
   },
   "file_extension": ".py",
   "mimetype": "text/x-python",
   "name": "python",
   "nbconvert_exporter": "python",
   "pygments_lexer": "ipython3",
   "version": "3.8.5"
  }
 },
 "nbformat": 4,
 "nbformat_minor": 4
}
